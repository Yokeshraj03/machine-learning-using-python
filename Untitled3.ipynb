{
  "nbformat": 4,
  "nbformat_minor": 0,
  "metadata": {
    "colab": {
      "name": "Untitled3.ipynb",
      "provenance": []
    },
    "kernelspec": {
      "name": "python3",
      "display_name": "Python 3"
    },
    "language_info": {
      "name": "python"
    }
  },
  "cells": [
    {
      "cell_type": "code",
      "execution_count": null,
      "metadata": {
        "colab": {
          "base_uri": "https://localhost:8080/"
        },
        "id": "l9gfETouLIaU",
        "outputId": "9d8bbbd0-32d3-41ba-caa2-0fb353db980a"
      },
      "outputs": [
        {
          "output_type": "stream",
          "name": "stdout",
          "text": [
            "{102: 'kumaraa', 209: 'vicky', 206: 'looper'}\n",
            "1st name iskumaraa\n",
            "2st name isvicky\n",
            "dict_keys([102, 209, 206])\n",
            "dict_values(['kumaraa', 'vicky', 'looper'])\n"
          ]
        }
      ],
      "source": [
        "d={102:'kumaraa',209:'vicky',206:'looper'}\n",
        "print(d)\n",
        "print(\"1st name is\"+d[102])\n",
        "print(\"2st name is\"+d[209])\n",
        "print(d.keys())\n",
        "print(d.values())"
      ]
    },
    {
      "cell_type": "code",
      "source": [
        "set1=set()\n",
        "set2={'james',2,3,'pyro','auto',2,3}\n",
        "print(set2)\n",
        "set2.add(10)\n",
        "print(set2)\n",
        "set2.remove(2)\n",
        "print(set2)"
      ],
      "metadata": {
        "colab": {
          "base_uri": "https://localhost:8080/"
        },
        "id": "LSKADMBHNogf",
        "outputId": "d56588f7-acf2-4123-ed67-68dee6ea8864"
      },
      "execution_count": null,
      "outputs": [
        {
          "output_type": "stream",
          "name": "stdout",
          "text": [
            "{2, 3, 'pyro', 'james', 'auto'}\n",
            "{2, 3, 'pyro', 10, 'james', 'auto'}\n",
            "{3, 'pyro', 10, 'james', 'auto'}\n"
          ]
        }
      ]
    }
  ]
}