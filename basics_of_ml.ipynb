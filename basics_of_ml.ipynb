{
  "nbformat": 4,
  "nbformat_minor": 0,
  "metadata": {
    "colab": {
      "name": "basics of ml",
      "provenance": []
    },
    "kernelspec": {
      "name": "python3",
      "display_name": "Python 3"
    },
    "language_info": {
      "name": "python"
    }
  },
  "cells": [
    {
      "cell_type": "code",
      "execution_count": 7,
      "metadata": {
        "colab": {
          "base_uri": "https://localhost:8080/"
        },
        "id": "yCS0SibR8B5D",
        "outputId": "8b9dfde9-5c2e-42d2-ecb1-14c5c87cf517"
      },
      "outputs": [
        {
          "output_type": "stream",
          "name": "stdout",
          "text": [
            "Enter Your Age : 12\n",
            "You wait for6year to vote\n"
          ]
        }
      ],
      "source": [
        "age=int(input(\"Enter Your Age : \"))\n",
        "diff=(18-age)\n",
        "if name>=18:\n",
        "   print(\"Your eligible to vote\")\n",
        "elif age<18:\n",
        "  print(\"You wait for\" + str(diff)+ \"year to vote\")   \n",
        "else:\n",
        "   print(\"Your are not eligible to vote\")\n",
        "   "
      ]
    },
    {
      "cell_type": "code",
      "source": [
        "num=[2,3,4,55,33,22]\n",
        "sum=0\n",
        "for i in num:\n",
        "  sum=sum+i**2\n",
        "print(\"the sum of the square\",sum)"
      ],
      "metadata": {
        "colab": {
          "base_uri": "https://localhost:8080/"
        },
        "id": "f2WmKesMANZv",
        "outputId": "daff93ca-0432-4408-d1bd-40ad8a6576ec"
      },
      "execution_count": 8,
      "outputs": [
        {
          "output_type": "stream",
          "name": "stdout",
          "text": [
            "the sum of the square 4627\n"
          ]
        }
      ]
    },
    {
      "cell_type": "code",
      "source": [
        "print(\"string iteration\")\n",
        "s=\"Python\"\n",
        "for i in s:\n",
        "     print(i)"
      ],
      "metadata": {
        "colab": {
          "base_uri": "https://localhost:8080/"
        },
        "id": "pK-oR7CHDCOu",
        "outputId": "64d108c7-1409-4d09-bd04-a75ba2bf20af"
      },
      "execution_count": 9,
      "outputs": [
        {
          "output_type": "stream",
          "name": "stdout",
          "text": [
            "string iteration\n",
            "P\n",
            "y\n",
            "t\n",
            "h\n",
            "o\n",
            "n\n"
          ]
        }
      ]
    },
    {
      "cell_type": "code",
      "source": [
        "for i in range(1,11):\n",
        "  if i==6:\n",
        "    continue\n",
        "  else: \n",
        "    print(i)\n"
      ],
      "metadata": {
        "colab": {
          "base_uri": "https://localhost:8080/"
        },
        "id": "BqpcO5dXEjoF",
        "outputId": "172de988-ebff-4be0-d392-d23f5a503f49"
      },
      "execution_count": 15,
      "outputs": [
        {
          "output_type": "stream",
          "name": "stdout",
          "text": [
            "1\n",
            "2\n",
            "3\n",
            "4\n",
            "5\n",
            "7\n",
            "8\n",
            "9\n",
            "10\n"
          ]
        }
      ]
    },
    {
      "cell_type": "code",
      "source": [
        "i=0\n",
        "while i<10:\n",
        "    print(i)\n",
        "    i+=3\n",
        "    "
      ],
      "metadata": {
        "colab": {
          "base_uri": "https://localhost:8080/"
        },
        "id": "Z1NbrecjWENE",
        "outputId": "cf7d967e-2d4f-4d91-f546-166dc3c0a42c"
      },
      "execution_count": 17,
      "outputs": [
        {
          "output_type": "stream",
          "name": "stdout",
          "text": [
            "0\n",
            "3\n",
            "6\n",
            "9\n"
          ]
        }
      ]
    },
    {
      "cell_type": "code",
      "source": [
        "#build in function\n",
        "neg=-8768\n",
        "print(abs(neg))"
      ],
      "metadata": {
        "colab": {
          "base_uri": "https://localhost:8080/"
        },
        "id": "6qyDefgkWsMf",
        "outputId": "ac8e80d1-d481-4a84-a49c-cb06e5cc97a1"
      },
      "execution_count": 20,
      "outputs": [
        {
          "output_type": "stream",
          "name": "stdout",
          "text": [
            "876\n"
          ]
        }
      ]
    },
    {
      "cell_type": "code",
      "source": [
        "#round off\n",
        "neg=-2569.346\n",
        "print(round(neg,1))"
      ],
      "metadata": {
        "colab": {
          "base_uri": "https://localhost:8080/"
        },
        "id": "rjqR9WlpYAWo",
        "outputId": "6ae3a183-0a71-4d61-8bf0-befea1970759"
      },
      "execution_count": 30,
      "outputs": [
        {
          "output_type": "stream",
          "name": "stdout",
          "text": [
            "-2569.3\n"
          ]
        }
      ]
    },
    {
      "cell_type": "code",
      "source": [
        "#power of mods\n",
        "a=pow(3,4,5)\n",
        "print(a)"
      ],
      "metadata": {
        "colab": {
          "base_uri": "https://localhost:8080/"
        },
        "id": "pluEfVHkYPxz",
        "outputId": "0f3c9b9c-2c8d-4d14-b98d-48a90f1213ff"
      },
      "execution_count": 31,
      "outputs": [
        {
          "output_type": "stream",
          "name": "stdout",
          "text": [
            "1\n"
          ]
        }
      ]
    },
    {
      "cell_type": "code",
      "source": [
        " class person:\n",
        "   name=\"yoksh\"\n",
        "   age=20\n",
        "   country=\"india\"\n",
        "   education=\"REC\"\n",
        "print(dir(person)) "
      ],
      "metadata": {
        "colab": {
          "base_uri": "https://localhost:8080/"
        },
        "id": "97HeX37uaRUR",
        "outputId": "1661b24f-e580-4c4e-f1bc-2e7ae083a076"
      },
      "execution_count": 34,
      "outputs": [
        {
          "output_type": "stream",
          "name": "stdout",
          "text": [
            "['__class__', '__delattr__', '__dict__', '__dir__', '__doc__', '__eq__', '__format__', '__ge__', '__getattribute__', '__gt__', '__hash__', '__init__', '__init_subclass__', '__le__', '__lt__', '__module__', '__ne__', '__new__', '__reduce__', '__reduce_ex__', '__repr__', '__setattr__', '__sizeof__', '__str__', '__subclasshook__', '__weakref__', 'age', 'country', 'education', 'name']\n"
          ]
        }
      ]
    },
    {
      "cell_type": "code",
      "source": [
        "a=(\"6\",\"3\",\"4\",\"5\",\"7\",\"8\",\"9\",\"1\")\n",
        "print(sorted(a,reverse=True))"
      ],
      "metadata": {
        "colab": {
          "base_uri": "https://localhost:8080/"
        },
        "id": "fd0RVoaKbQCp",
        "outputId": "2cb84717-069d-4aa9-de9c-3742a1e188ea"
      },
      "execution_count": 40,
      "outputs": [
        {
          "output_type": "stream",
          "name": "stdout",
          "text": [
            "['9', '8', '7', '6', '5', '4', '3', '1']\n"
          ]
        }
      ]
    },
    {
      "cell_type": "code",
      "source": [
        "name=(\"yokesh\",\"vickylooper\",\"sanjay\")\n",
        "print(max(name))\n"
      ],
      "metadata": {
        "colab": {
          "base_uri": "https://localhost:8080/"
        },
        "id": "C9HY5tYVa1b8",
        "outputId": "9e4f24bd-1793-4b57-f077-ed5129c1ed05"
      },
      "execution_count": 43,
      "outputs": [
        {
          "output_type": "stream",
          "name": "stdout",
          "text": [
            "yokesh\n"
          ]
        }
      ]
    },
    {
      "cell_type": "code",
      "source": [
        "nearest_number=round(-45.45335)\n",
        "print(nearest_number)"
      ],
      "metadata": {
        "colab": {
          "base_uri": "https://localhost:8080/"
        },
        "id": "3AJsQSmId00o",
        "outputId": "40c8a6f0-b0bf-4a95-ccf2-3b6c7e2a4366"
      },
      "execution_count": 44,
      "outputs": [
        {
          "output_type": "stream",
          "name": "stdout",
          "text": [
            "-45\n"
          ]
        }
      ]
    },
    {
      "cell_type": "code",
      "source": [
        "fruit=[\"apple\",\"icream\",\"choco\",\"straw\"]\n",
        "print(len(fruit))"
      ],
      "metadata": {
        "colab": {
          "base_uri": "https://localhost:8080/"
        },
        "id": "vVg1CbfxexdK",
        "outputId": "309c33c1-1fe7-4a14-eb7f-81c02acfdf10"
      },
      "execution_count": 45,
      "outputs": [
        {
          "output_type": "stream",
          "name": "stdout",
          "text": [
            "4\n"
          ]
        }
      ]
    },
    {
      "cell_type": "code",
      "source": [
        "a=(2,3,5,6)\n",
        "print(sum(a,3))"
      ],
      "metadata": {
        "colab": {
          "base_uri": "https://localhost:8080/",
          "height": 183
        },
        "id": "fEoYkixMf-am",
        "outputId": "e806052c-2be3-47dd-e5c8-06501552dae2"
      },
      "execution_count": 49,
      "outputs": [
        {
          "output_type": "error",
          "ename": "TypeError",
          "evalue": "ignored",
          "traceback": [
            "\u001b[0;31m---------------------------------------------------------------------------\u001b[0m",
            "\u001b[0;31mTypeError\u001b[0m                                 Traceback (most recent call last)",
            "\u001b[0;32m<ipython-input-49-d7ced2b4a0c3>\u001b[0m in \u001b[0;36m<module>\u001b[0;34m()\u001b[0m\n\u001b[1;32m      1\u001b[0m \u001b[0ma\u001b[0m\u001b[0;34m=\u001b[0m\u001b[0;34m(\u001b[0m\u001b[0;36m2\u001b[0m\u001b[0;34m,\u001b[0m\u001b[0;36m3\u001b[0m\u001b[0;34m,\u001b[0m\u001b[0;36m5\u001b[0m\u001b[0;34m,\u001b[0m\u001b[0;36m6\u001b[0m\u001b[0;34m)\u001b[0m\u001b[0;34m\u001b[0m\u001b[0;34m\u001b[0m\u001b[0m\n\u001b[0;32m----> 2\u001b[0;31m \u001b[0mprint\u001b[0m\u001b[0;34m(\u001b[0m\u001b[0msum\u001b[0m\u001b[0;34m(\u001b[0m\u001b[0ma\u001b[0m\u001b[0;34m,\u001b[0m\u001b[0;36m3\u001b[0m\u001b[0;34m)\u001b[0m\u001b[0;34m)\u001b[0m\u001b[0;34m\u001b[0m\u001b[0;34m\u001b[0m\u001b[0m\n\u001b[0m",
            "\u001b[0;31mTypeError\u001b[0m: 'int' object is not callable"
          ]
        }
      ]
    }
  ]
}