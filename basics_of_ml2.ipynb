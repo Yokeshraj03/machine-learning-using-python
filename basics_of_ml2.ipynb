{
  "nbformat": 4,
  "nbformat_minor": 0,
  "metadata": {
    "colab": {
      "name": "basics of ml2",
      "provenance": []
    },
    "kernelspec": {
      "name": "python3",
      "display_name": "Python 3"
    },
    "language_info": {
      "name": "python"
    }
  },
  "cells": [
    {
      "cell_type": "code",
      "execution_count": null,
      "metadata": {
        "colab": {
          "base_uri": "https://localhost:8080/"
        },
        "id": "EsfHlJ7ShEcr",
        "outputId": "003a9aa8-ac25-4d6d-ee3d-0cb706bb723b"
      },
      "outputs": [
        {
          "output_type": "stream",
          "name": "stdout",
          "text": [
            "19\n"
          ]
        }
      ],
      "source": [
        "a=(2,3,5,6)\n",
        "print(sum(a,3))"
      ]
    },
    {
      "cell_type": "code",
      "source": [
        "#passing value by reference\n",
        "def square(my_list):\n",
        "    square=[] \n",
        "    for i in my_list:\n",
        "         square.append(i**2)\n",
        "    return square\n",
        "list=[33,57,69]\n",
        "result=square(list)\n",
        "print(result)"
      ],
      "metadata": {
        "colab": {
          "base_uri": "https://localhost:8080/"
        },
        "id": "Mdh3sHj60hDI",
        "outputId": "f43de908-5d3d-42b2-d7b8-b67ae55628f2"
      },
      "execution_count": 6,
      "outputs": [
        {
          "output_type": "stream",
          "name": "stdout",
          "text": [
            "[1089, 3249, 4761]\n"
          ]
        }
      ]
    },
    {
      "cell_type": "code",
      "source": [
        ""
      ],
      "metadata": {
        "id": "9AkVlUkS4dij"
      },
      "execution_count": null,
      "outputs": []
    },
    {
      "cell_type": "code",
      "source": [
        ""
      ],
      "metadata": {
        "id": "I--u0QCY4dns"
      },
      "execution_count": null,
      "outputs": []
    },
    {
      "cell_type": "code",
      "source": [
        "help(print)"
      ],
      "metadata": {
        "colab": {
          "base_uri": "https://localhost:8080/"
        },
        "id": "qWcHc1kqhg-i",
        "outputId": "c392b449-49a5-401b-f0bd-99b5a1c0d06f"
      },
      "execution_count": null,
      "outputs": [
        {
          "output_type": "stream",
          "name": "stdout",
          "text": [
            "Help on built-in function print in module builtins:\n",
            "\n",
            "print(...)\n",
            "    print(value, ..., sep=' ', end='\\n', file=sys.stdout, flush=False)\n",
            "    \n",
            "    Prints the values to a stream, or to sys.stdout by default.\n",
            "    Optional keyword arguments:\n",
            "    file:  a file-like object (stream); defaults to the current sys.stdout.\n",
            "    sep:   string inserted between values, default a space.\n",
            "    end:   string appended after the last value, default a newline.\n",
            "    flush: whether to forcibly flush the stream.\n",
            "\n"
          ]
        }
      ]
    },
    {
      "cell_type": "code",
      "source": [
        "def square(num):\n",
        "  \"\"\"this function computes the square of the number.\"\"\"\n",
        "  return num**2\n",
        "object_=square(9)\n",
        "print(\"the square of the number is:\",object_)  "
      ],
      "metadata": {
        "id": "YKISA_HVicOb",
        "colab": {
          "base_uri": "https://localhost:8080/"
        },
        "outputId": "78a935f0-4552-4d51-ff07-816c2767f87c"
      },
      "execution_count": null,
      "outputs": [
        {
          "output_type": "stream",
          "name": "stdout",
          "text": [
            "the square of the number is: 81\n"
          ]
        }
      ]
    }
  ]
}